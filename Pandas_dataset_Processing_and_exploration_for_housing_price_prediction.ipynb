{
 "cells": [
  {
   "cell_type": "code",
   "execution_count": null,
   "id": "827e6a64-9ac9-41a4-a808-d428283b0953",
   "metadata": {},
   "outputs": [],
   "source": [
    "# load housing dataset\n",
    "import kagglehub\n",
    "import os, shutil\n",
    "import numpy as np\n",
    "import pandas as pd\n",
    "import seaborn as sns\n",
    "import matplotlib.pyplot as plt\n",
    "\n",
    "# Download latest version\n",
    "path = kagglehub.dataset_download(\"kento731/housing-price-dubai-uae\")\n",
    "kaggle_filename = \"Housing Price Dubai UAE.csv\"\n",
    "if not(os.path.exists(\"Datasets\")):\n",
    "    os.mkdir(\"Datasets\")\n",
    "Dataset_path = shutil.copy(os.path.join(path,kaggle_filename),\"Datasets\")\n",
    "print(\"Loaded dataset:\", Dataset_path)"
   ]
  },
  {
   "cell_type": "code",
   "execution_count": null,
   "id": "3c17fa6f-d166-4758-9d9b-9b6eb1b4f0dc",
   "metadata": {},
   "outputs": [],
   "source": [
    "pd.set_option('display.max_columns', None) # to display the large dataset."
   ]
  },
  {
   "cell_type": "markdown",
   "id": "d0b3563b-a2e2-4600-ab2c-ff816c17a101",
   "metadata": {},
   "source": [
    "## 1. Data Exploration/Visualization"
   ]
  },
  {
   "cell_type": "code",
   "execution_count": null,
   "id": "95395360-829e-4ae7-87d8-18873332097d",
   "metadata": {},
   "outputs": [],
   "source": [
    "#load dataset from storage\n",
    "Dataframe = pd.read_csv(Dataset_path)\n",
    "print(Dataframe.shape)\n",
    "Dataframe.info()"
   ]
  },
  {
   "cell_type": "code",
   "execution_count": null,
   "id": "6c4dcac2-889a-45bd-a12e-63768f16fc34",
   "metadata": {},
   "outputs": [],
   "source": [
    "# finding missing values\n",
    "pd.set_option('display.max_rows', None)\n",
    "Dataframe.isnull().sum()\n",
    "Dataframe.isna().sum()\n",
    "pd.set_option('display.max_rows', 10)\n",
    "# No missing values found.\n",
    "\n",
    "# inspecting Numerics\n",
    "Dataframe.hist(bins=50, figsize=(16,8))"
   ]
  },
  {
   "cell_type": "code",
   "execution_count": null,
   "id": "de072c5a-417d-4eab-8356-9f1db4b5a881",
   "metadata": {},
   "outputs": [],
   "source": [
    "# use Seaborn boxplot to find outliers\n",
    "for i in Dataframe.select_dtypes(include=\"number\").columns:\n",
    "    sns.boxplot(data=Dataframe, x=i)\n",
    "    # plt.show()\n",
    "    # # continious features show a similar behaviour thus no treatment is done to perserve accuracy.\n",
    "    # # ID is not used in training thus no treatment is need.\n",
    "\n",
    "# # pair plot to show how features scatter in relation to price\n",
    "# sns.pairplot(Dataframe) # HEAVY ON PROCESSOR, USE ALTERNATIVE:\n",
    "Slice = Dataframe.iloc[:, 4:9]\n",
    "sns.pairplot(Slice)\n",
    "\n",
    "plt.show()"
   ]
  },
  {
   "cell_type": "markdown",
   "id": "49d394d9-66e8-4ec3-877b-c9100f2b229e",
   "metadata": {},
   "source": [
    "# 2. Data value cleaning and preparation"
   ]
  },
  {
   "cell_type": "code",
   "execution_count": null,
   "id": "7de57ae8-66d1-4426-9c8b-241c1fa24d8f",
   "metadata": {},
   "outputs": [],
   "source": [
    "# remove duplicates\n",
    "Dataframe = Dataframe.drop_duplicates()\n",
    "Dataframe.shape\n",
    "# no duplicates found.\n",
    "\n",
    "# we could remove \"price_per_sqft\" column to avoid leaks in machine learning training, but let's keep it for now.\n",
    "# Dataframe = Dataframe.drop(columns = \"price_per_sqft\")\n",
    "\n",
    "# remove impactless data\n",
    "Dataframe = Dataframe.drop(columns = [\"latitude\",\"longitude\"])\n",
    "\n",
    "# # remove rows with invalid values (but earlier inspection shows no null)\n",
    "# Dataframe.dropna(axis=0)"
   ]
  },
  {
   "cell_type": "code",
   "execution_count": null,
   "id": "ea748253-2264-4973-ae0b-de5e233ba765",
   "metadata": {},
   "outputs": [],
   "source": [
    "Dataframe"
   ]
  },
  {
   "cell_type": "code",
   "execution_count": null,
   "id": "018a8da9-2d1c-4d91-94b0-c76dcc75a1c4",
   "metadata": {},
   "outputs": [],
   "source": [
    "# inspect strings\n",
    "pd.set_option('display.max_rows', None)\n",
    "\n",
    "pd.Series.value_counts(Dataframe[\"neighborhood\"]) \n",
    "Dataframe[\"neighborhood\"].nunique()\n",
    "Dataframe[\"neighborhood\"].sort_values()\n",
    "# seems fine, 54 categories, no mismatch in naming.\n",
    "\n",
    "pd.Series.value_counts(Dataframe[\"quality\"]) \n",
    "# seems fine, 4 categories.\n",
    "\n",
    "# No need for stripping.\n",
    "pd.set_option('display.max_rows', 10)"
   ]
  },
  {
   "cell_type": "markdown",
   "id": "f898c21b-f06d-4cb0-a2bd-76bbb31d2b7f",
   "metadata": {},
   "source": [
    "## 2.1 Data Encoding"
   ]
  },
  {
   "cell_type": "code",
   "execution_count": null,
   "id": "2c6b9de9-268d-4f88-9b7e-7e62e37b91a4",
   "metadata": {},
   "outputs": [],
   "source": [
    "# replacing Strings with Numerics giving apporoximate advantage by area/class.\n",
    "\n",
    "# take the neighborhoods slice from the dataframe sorted by prices and covert it to list\n",
    "neighborhoods = Dataframe[[\"neighborhood\", \"price\"]].sort_values(\"price\", ascending=True)\n",
    "neighborhoods = neighborhoods[\"neighborhood\"].unique().tolist()\n",
    "# generate neighborhood_values and replace in dataframe\n",
    "neighborhood_values = np.arange(len(neighborhoods))\n",
    "Dataframe = Dataframe.replace(neighborhoods,neighborhood_values)  ##downcasting warning expected##\n",
    "print(Dataframe[\"neighborhood\"])\n",
    "qualities = [\"Low\", \"Medium\", \"High\", \"Ultra\"]\n",
    "Dataframe = Dataframe.replace(qualities,[0, 1, 2, 3])"
   ]
  },
  {
   "cell_type": "code",
   "execution_count": null,
   "id": "6f6093d9-cf7d-4129-90ef-d469e42f68fe",
   "metadata": {},
   "outputs": [],
   "source": [
    "# replacing True and False\n",
    "Dataframe = Dataframe.replace([False, True],[0, 1]) ##downcasting warning expected##\n",
    "Dataframe"
   ]
  },
  {
   "cell_type": "markdown",
   "id": "009ae983-16d8-4265-b626-6ef4b9569bb2",
   "metadata": {},
   "source": [
    "## 2.2 Final Inspection"
   ]
  },
  {
   "cell_type": "code",
   "execution_count": null,
   "id": "1be72645-56cb-43a6-8f50-046944650c6c",
   "metadata": {},
   "outputs": [],
   "source": [
    "Dataframe.hist(column=[\"price\", \"size_in_sqft\", \"price_per_sqft\", \"price_per_sqft\", \"no_of_bedrooms\", \"quality\"],  bins=50, figsize=(20,10), layout=(2,3))\n",
    "# The distribution sounds about right."
   ]
  },
  {
   "cell_type": "code",
   "execution_count": null,
   "id": "5f305c21-c167-4450-b4d9-0060ed4644b9",
   "metadata": {},
   "outputs": [],
   "source": [
    "# seaborn heatmap to analize correlation between features\n",
    "data_heat = Dataframe.corr()\n",
    "plt.figure(figsize=(20,20))\n",
    "sns.heatmap(data_heat,annot=True)\n",
    "# Upon inspection, correlation seems to be logical."
   ]
  },
  {
   "cell_type": "markdown",
   "id": "e23a10b4-8535-4aa6-8190-2214ab4b734e",
   "metadata": {},
   "source": [
    "# 3. Feature Scaling/Normalization"
   ]
  },
  {
   "cell_type": "code",
   "execution_count": null,
   "id": "55b3c1b4-1499-4b37-a24b-c56ae7f9fe99",
   "metadata": {},
   "outputs": [],
   "source": []
  }
 ],
 "metadata": {
  "kernelspec": {
   "display_name": "Python 3 (ipykernel)",
   "language": "python",
   "name": "python3"
  },
  "language_info": {
   "codemirror_mode": {
    "name": "ipython",
    "version": 3
   },
   "file_extension": ".py",
   "mimetype": "text/x-python",
   "name": "python",
   "nbconvert_exporter": "python",
   "pygments_lexer": "ipython3",
   "version": "3.12.7"
  }
 },
 "nbformat": 4,
 "nbformat_minor": 5
}

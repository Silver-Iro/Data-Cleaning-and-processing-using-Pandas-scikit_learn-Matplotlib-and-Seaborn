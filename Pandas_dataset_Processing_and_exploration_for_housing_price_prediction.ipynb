{
 "cells": [
  {
   "cell_type": "code",
   "execution_count": null,
   "id": "827e6a64-9ac9-41a4-a808-d428283b0953",
   "metadata": {},
   "outputs": [],
   "source": [
    "# load housing dataset\n",
    "import kagglehub\n",
    "import os, shutil\n",
    "import numpy as np\n",
    "\n",
    "# Download latest version\n",
    "path = kagglehub.dataset_download(\"kento731/housing-price-dubai-uae\")\n",
    "kaggle_filename = \"Housing Price Dubai UAE.csv\"\n",
    "if not(os.path.exists(\"Datasets\")):\n",
    "    os.mkdir(\"Datasets\")\n",
    "Dataset_path = shutil.copy(os.path.join(path,kaggle_filename),\"Datasets\")\n",
    "print(\"Loaded dataset:\", Dataset_path)"
   ]
  },
  {
   "cell_type": "code",
   "execution_count": null,
   "id": "3c17fa6f-d166-4758-9d9b-9b6eb1b4f0dc",
   "metadata": {},
   "outputs": [],
   "source": [
    "import pandas as pd\n",
    "pd.set_option('display.max_columns', None) # to display the large dataset"
   ]
  },
  {
   "cell_type": "markdown",
   "id": "d0b3563b-a2e2-4600-ab2c-ff816c17a101",
   "metadata": {},
   "source": [
    "## data Exploration/Visualization"
   ]
  },
  {
   "cell_type": "code",
   "execution_count": null,
   "id": "95395360-829e-4ae7-87d8-18873332097d",
   "metadata": {},
   "outputs": [],
   "source": [
    "Dataframe = pd.read_csv(Dataset_path)\n",
    "Dataframe.info()"
   ]
  },
  {
   "cell_type": "code",
   "execution_count": null,
   "id": "6c4dcac2-889a-45bd-a12e-63768f16fc34",
   "metadata": {},
   "outputs": [],
   "source": []
  },
  {
   "cell_type": "markdown",
   "id": "49d394d9-66e8-4ec3-877b-c9100f2b229e",
   "metadata": {},
   "source": [
    "# Data value cleaning and preparation"
   ]
  },
  {
   "cell_type": "code",
   "execution_count": null,
   "id": "7de57ae8-66d1-4426-9c8b-241c1fa24d8f",
   "metadata": {},
   "outputs": [],
   "source": [
    "# remove duplicates\n",
    "Dataframe = Dataframe.drop_duplicates()\n",
    "# Dataframe.shape\n",
    "# no duplicates found\n",
    "\n",
    "# remove data that might cause leaks in training\n",
    "Dataframe = Dataframe.drop(columns = \"price_per_sqft\")\n",
    "\n",
    "# remove impactless data\n",
    "Dataframe = Dataframe.drop(columns = [\"latitude\",\"longitude\"])\n",
    "\n",
    "# remove rows with invalid values (info() shows no null, but let's run dropna anyways)\n",
    "Dataframe.dropna(axis=0)"
   ]
  },
  {
   "cell_type": "code",
   "execution_count": null,
   "id": "ea748253-2264-4973-ae0b-de5e233ba765",
   "metadata": {},
   "outputs": [],
   "source": [
    "Dataframe"
   ]
  },
  {
   "cell_type": "code",
   "execution_count": null,
   "id": "018a8da9-2d1c-4d91-94b0-c76dcc75a1c4",
   "metadata": {},
   "outputs": [],
   "source": [
    "# inspect strings\n",
    "pd.set_option('display.max_rows', None)\n",
    "\n",
    "pd.Series.value_counts(Dataframe[\"neighborhood\"]) \n",
    "Dataframe[\"neighborhood\"].nunique()\n",
    "Dataframe[\"neighborhood\"].sort_values()\n",
    "# seems fine, 54 categories, no mismatch in naming.\n",
    "\n",
    "pd.Series.value_counts(Dataframe[\"quality\"]) \n",
    "# seems fine, 4 categories.\n",
    "\n",
    "\n",
    "# No need for stripping.\n",
    "pd.set_option('display.max_rows', 10)"
   ]
  },
  {
   "cell_type": "code",
   "execution_count": null,
   "id": "2c6b9de9-268d-4f88-9b7e-7e62e37b91a4",
   "metadata": {},
   "outputs": [],
   "source": [
    "# replacing Strings with Numerics giving apporoximate advantage by area/class.\n",
    "\n",
    "# take the neighborhoods slice from the dataframe sorted by prices and covert it to list\n",
    "neighborhoods = Dataframe[[\"neighborhood\", \"price\"]].sort_values(\"price\", ascending=True)\n",
    "neighborhoods = neighborhoods[\"neighborhood\"].unique().tolist()\n",
    "# generate neighborhood_values and replace in dataframe\n",
    "neighborhood_values = np.arange(len(neighborhoods))\n",
    "Dataframe = Dataframe.replace(neighborhoods,neighborhood_values)  ##downcasting warning expected##\n",
    "\n",
    "# replacing 'quality'\n",
    "qualities = [\"Low\", \"Medium\", \"High\", \"Ultra\"]\n",
    "Dataframe = Dataframe.replace(qualities,[0, 1, 2, 3])"
   ]
  },
  {
   "cell_type": "code",
   "execution_count": null,
   "id": "6f6093d9-cf7d-4129-90ef-d469e42f68fe",
   "metadata": {},
   "outputs": [],
   "source": [
    "# replacing True and False\n",
    "Dataframe = Dataframe.replace([False, True],[0, 1]) ##downcasting warning expected##\n",
    "Dataframe"
   ]
  },
  {
   "cell_type": "code",
   "execution_count": null,
   "id": "1be72645-56cb-43a6-8f50-046944650c6c",
   "metadata": {},
   "outputs": [],
   "source": [
    "# "
   ]
  }
 ],
 "metadata": {
  "kernelspec": {
   "display_name": "Python 3 (ipykernel)",
   "language": "python",
   "name": "python3"
  },
  "language_info": {
   "codemirror_mode": {
    "name": "ipython",
    "version": 3
   },
   "file_extension": ".py",
   "mimetype": "text/x-python",
   "name": "python",
   "nbconvert_exporter": "python",
   "pygments_lexer": "ipython3",
   "version": "3.12.7"
  }
 },
 "nbformat": 4,
 "nbformat_minor": 5
}
